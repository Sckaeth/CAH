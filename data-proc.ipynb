{
 "cells": [
  {
   "cell_type": "markdown",
   "source": [
    "# Data Processing\n",
    "This file runs through the data and processes it into a usable format for the training of the language model and reward model.\n",
    "\n",
    "This involves the following steps:\n",
    "1. Removing all rows where the column *\"black_card_pick_num\"* is over 1, to ensure that chosen rows only contain one punchline.\n",
    "2. Erasing rows where *\"round_skipped\"* is True, to ensure that chosen rows actually have a winning joke.\n",
    "3. Adding an extra row into the dataset containing the winning joke for that round. This becomes useful for the reward model training.\n",
    "4. Mapping *\"won\"* values of False to 0, and True to 1 to aid with training further down the line.\n",
    "5. Columns containing data that is not immediately relevant are removed and *\"fake_round_id\"* is renamed to *\"round_id\"*."
   ],
   "metadata": {
    "collapsed": false
   }
  },
  {
   "cell_type": "markdown",
   "source": [
    "---\n",
    "### Dataset Pre-processing:"
   ],
   "metadata": {
    "collapsed": false
   }
  },
  {
   "cell_type": "code",
   "execution_count": 11,
   "metadata": {
    "collapsed": true
   },
   "outputs": [],
   "source": [
    "# Imports the Pandas library\n",
    "import pandas as pd\n",
    "\n",
    "# Reads the .csv file and then omits certain rows based on conditions.\n",
    "dataset = pd.read_csv('Data/cah_data.csv')\n",
    "dataset = dataset[dataset['black_card_pick_num'] <= 1]\n",
    "dataset = dataset[dataset['round_skipped'] != True]\n",
    "\n",
    "# Creates a new column for the winning joke.\n",
    "winning_jokes = dataset[dataset['won'] == True].copy()\n",
    "winning_jokes.loc[:, 'chosen_white_card'] = winning_jokes['white_card_text']\n",
    "dataset = pd.merge(dataset, winning_jokes[['fake_round_id', 'chosen_white_card']], on='fake_round_id', how='left')\n",
    "\n",
    "# Creates a column with cleaned white_card_text.\n",
    "def remove_period(input):\n",
    "    if input[-1] == '.':\n",
    "        if input[-2] != '.':\n",
    "            input = input[:-1]\n",
    "    else:\n",
    "        if input[-2] == '.' and input[-3] != '.':\n",
    "            input = input[:-2] + input[-1]\n",
    "    return input\n",
    "dataset['clean_white_card_text'] = dataset['white_card_text'].apply(remove_period)\n",
    "\n",
    "# Alters other features within the dataset, as specified above, to aid with future tasks.\n",
    "dataset['won'] = dataset['won'].map({False: 0, True: 1})\n",
    "dataset['won'] = dataset['won'].astype(float)\n",
    "dataset.drop(['winning_index', 'round_skipped', 'black_card_pick_num'], axis=1, inplace=True)\n",
    "dataset.rename(columns={'fake_round_id': 'round_id'}, inplace=True)\n",
    "\n",
    "# Saves the dataset into a new .csv file.\n",
    "dataset.to_csv('Data/pproc_cah_data.csv', index=False)"
   ]
  },
  {
   "cell_type": "code",
   "execution_count": 12,
   "outputs": [
    {
     "data": {
      "text/plain": "         round_id  round_completion_seconds  \\\n0               1                        24   \n1               1                        24   \n2               1                        24   \n3               1                        24   \n4               1                        24   \n...           ...                       ...   \n2446355    298955                      7613   \n2446356    298955                      7613   \n2446357    298955                      7613   \n2446358    298955                      7613   \n2446359    298955                      7613   \n\n                                           black_card_text  \\\n0        Hi MTV! My name is Kendra, I live in Malibu, I...   \n1        Hi MTV! My name is Kendra, I live in Malibu, I...   \n2        Hi MTV! My name is Kendra, I live in Malibu, I...   \n3        Hi MTV! My name is Kendra, I live in Malibu, I...   \n4        Hi MTV! My name is Kendra, I live in Malibu, I...   \n...                                                    ...   \n2446355                     Oh my god! _____ killed Kenny!   \n2446356                     Oh my god! _____ killed Kenny!   \n2446357                     Oh my god! _____ killed Kenny!   \n2446358                     Oh my god! _____ killed Kenny!   \n2446359                     Oh my god! _____ killed Kenny!   \n\n                                           white_card_text  won  \\\n0        Going inside at some point because of the mosq...  0.0   \n1                                  Being fat from noodles.  0.0   \n2                           Letting this loser eat me out.  0.0   \n3                              That chicken from Popeyes.®  0.0   \n4                             A sorry excuse for a father.  0.0   \n...                                                    ...  ...   \n2446355                      Breastfeeding a ten-year-old.  0.0   \n2446356                  Happy daddies with happy sandals.  0.0   \n2446357         Jerking off to a 10-second RealMedia clip.  0.0   \n2446358            Getting naked and watching Nickelodeon.  0.0   \n2446359             Awesome pictures of planets and stuff.  0.0   \n\n          chosen_white_card                              clean_white_card_text  \n0        Shapes and colors.  Going inside at some point because of the mosq...  \n1        Shapes and colors.                             Being fat from noodles  \n2        Shapes and colors.                      Letting this loser eat me out  \n3        Shapes and colors.                         That chicken from Popeyes®  \n4        Shapes and colors.                        A sorry excuse for a father  \n...                     ...                                                ...  \n2446355         Jeff Bezos.                       Breastfeeding a ten-year-old  \n2446356         Jeff Bezos.                   Happy daddies with happy sandals  \n2446357         Jeff Bezos.          Jerking off to a 10-second RealMedia clip  \n2446358         Jeff Bezos.             Getting naked and watching Nickelodeon  \n2446359         Jeff Bezos.              Awesome pictures of planets and stuff  \n\n[2446360 rows x 7 columns]",
      "text/html": "<div>\n<style scoped>\n    .dataframe tbody tr th:only-of-type {\n        vertical-align: middle;\n    }\n\n    .dataframe tbody tr th {\n        vertical-align: top;\n    }\n\n    .dataframe thead th {\n        text-align: right;\n    }\n</style>\n<table border=\"1\" class=\"dataframe\">\n  <thead>\n    <tr style=\"text-align: right;\">\n      <th></th>\n      <th>round_id</th>\n      <th>round_completion_seconds</th>\n      <th>black_card_text</th>\n      <th>white_card_text</th>\n      <th>won</th>\n      <th>chosen_white_card</th>\n      <th>clean_white_card_text</th>\n    </tr>\n  </thead>\n  <tbody>\n    <tr>\n      <th>0</th>\n      <td>1</td>\n      <td>24</td>\n      <td>Hi MTV! My name is Kendra, I live in Malibu, I...</td>\n      <td>Going inside at some point because of the mosq...</td>\n      <td>0.0</td>\n      <td>Shapes and colors.</td>\n      <td>Going inside at some point because of the mosq...</td>\n    </tr>\n    <tr>\n      <th>1</th>\n      <td>1</td>\n      <td>24</td>\n      <td>Hi MTV! My name is Kendra, I live in Malibu, I...</td>\n      <td>Being fat from noodles.</td>\n      <td>0.0</td>\n      <td>Shapes and colors.</td>\n      <td>Being fat from noodles</td>\n    </tr>\n    <tr>\n      <th>2</th>\n      <td>1</td>\n      <td>24</td>\n      <td>Hi MTV! My name is Kendra, I live in Malibu, I...</td>\n      <td>Letting this loser eat me out.</td>\n      <td>0.0</td>\n      <td>Shapes and colors.</td>\n      <td>Letting this loser eat me out</td>\n    </tr>\n    <tr>\n      <th>3</th>\n      <td>1</td>\n      <td>24</td>\n      <td>Hi MTV! My name is Kendra, I live in Malibu, I...</td>\n      <td>That chicken from Popeyes.®</td>\n      <td>0.0</td>\n      <td>Shapes and colors.</td>\n      <td>That chicken from Popeyes®</td>\n    </tr>\n    <tr>\n      <th>4</th>\n      <td>1</td>\n      <td>24</td>\n      <td>Hi MTV! My name is Kendra, I live in Malibu, I...</td>\n      <td>A sorry excuse for a father.</td>\n      <td>0.0</td>\n      <td>Shapes and colors.</td>\n      <td>A sorry excuse for a father</td>\n    </tr>\n    <tr>\n      <th>...</th>\n      <td>...</td>\n      <td>...</td>\n      <td>...</td>\n      <td>...</td>\n      <td>...</td>\n      <td>...</td>\n      <td>...</td>\n    </tr>\n    <tr>\n      <th>2446355</th>\n      <td>298955</td>\n      <td>7613</td>\n      <td>Oh my god! _____ killed Kenny!</td>\n      <td>Breastfeeding a ten-year-old.</td>\n      <td>0.0</td>\n      <td>Jeff Bezos.</td>\n      <td>Breastfeeding a ten-year-old</td>\n    </tr>\n    <tr>\n      <th>2446356</th>\n      <td>298955</td>\n      <td>7613</td>\n      <td>Oh my god! _____ killed Kenny!</td>\n      <td>Happy daddies with happy sandals.</td>\n      <td>0.0</td>\n      <td>Jeff Bezos.</td>\n      <td>Happy daddies with happy sandals</td>\n    </tr>\n    <tr>\n      <th>2446357</th>\n      <td>298955</td>\n      <td>7613</td>\n      <td>Oh my god! _____ killed Kenny!</td>\n      <td>Jerking off to a 10-second RealMedia clip.</td>\n      <td>0.0</td>\n      <td>Jeff Bezos.</td>\n      <td>Jerking off to a 10-second RealMedia clip</td>\n    </tr>\n    <tr>\n      <th>2446358</th>\n      <td>298955</td>\n      <td>7613</td>\n      <td>Oh my god! _____ killed Kenny!</td>\n      <td>Getting naked and watching Nickelodeon.</td>\n      <td>0.0</td>\n      <td>Jeff Bezos.</td>\n      <td>Getting naked and watching Nickelodeon</td>\n    </tr>\n    <tr>\n      <th>2446359</th>\n      <td>298955</td>\n      <td>7613</td>\n      <td>Oh my god! _____ killed Kenny!</td>\n      <td>Awesome pictures of planets and stuff.</td>\n      <td>0.0</td>\n      <td>Jeff Bezos.</td>\n      <td>Awesome pictures of planets and stuff</td>\n    </tr>\n  </tbody>\n</table>\n<p>2446360 rows × 7 columns</p>\n</div>"
     },
     "execution_count": 12,
     "metadata": {},
     "output_type": "execute_result"
    }
   ],
   "source": [
    "dataset"
   ],
   "metadata": {
    "collapsed": false
   }
  },
  {
   "cell_type": "code",
   "execution_count": 64,
   "outputs": [],
   "source": [
    "# Filters out any rows outside of the 25th and 75th percentiles of round completion seconds.\n",
    "percentile_25 =  dataset['round_completion_seconds'].quantile(0.25)\n",
    "percentile_75 = dataset['round_completion_seconds'].quantile(0.75)\n",
    "\n",
    "# Filter the dataframe to keep only the rows within the middle 50% of integer values\n",
    "dataset = dataset[\n",
    "    (dataset['round_completion_seconds'] >= percentile_25) &\n",
    "    (dataset['round_completion_seconds'] <= percentile_75)\n",
    "]\n",
    "\n",
    "dataset.to_csv('Data/proc_cah_data.csv', index=False)"
   ],
   "metadata": {
    "collapsed": false
   }
  },
  {
   "cell_type": "code",
   "execution_count": 65,
   "outputs": [
    {
     "name": "stdout",
     "output_type": "stream",
     "text": [
      "         round_id  round_completion_seconds  \\\n",
      "0               1                        24   \n",
      "1               1                        24   \n",
      "2               1                        24   \n",
      "3               1                        24   \n",
      "4               1                        24   \n",
      "...           ...                       ...   \n",
      "2446345    298954                        18   \n",
      "2446346    298954                        18   \n",
      "2446347    298954                        18   \n",
      "2446348    298954                        18   \n",
      "2446349    298954                        18   \n",
      "\n",
      "                                           black_card_text  \\\n",
      "0        Hi MTV! My name is Kendra, I live in Malibu, I...   \n",
      "1        Hi MTV! My name is Kendra, I live in Malibu, I...   \n",
      "2        Hi MTV! My name is Kendra, I live in Malibu, I...   \n",
      "3        Hi MTV! My name is Kendra, I live in Malibu, I...   \n",
      "4        Hi MTV! My name is Kendra, I live in Malibu, I...   \n",
      "...                                                    ...   \n",
      "2446345  In his farewell address, George Washington fam...   \n",
      "2446346  In his farewell address, George Washington fam...   \n",
      "2446347  In his farewell address, George Washington fam...   \n",
      "2446348  In his farewell address, George Washington fam...   \n",
      "2446349  In his farewell address, George Washington fam...   \n",
      "\n",
      "                                           white_card_text  won  \\\n",
      "0        Going inside at some point because of the mosq...  0.0   \n",
      "1                                  Being fat from noodles.  0.0   \n",
      "2                           Letting this loser eat me out.  0.0   \n",
      "3                              That chicken from Popeyes.®  0.0   \n",
      "4                             A sorry excuse for a father.  0.0   \n",
      "...                                                    ...  ...   \n",
      "2446345  A little boy who won't shut the fuck up about ...  1.0   \n",
      "2446346                                  Crazy opium eyes.  0.0   \n",
      "2446347                Raising three kids on minimum wage.  0.0   \n",
      "2446348                                         The South.  0.0   \n",
      "2446349                                          Syphilis.  0.0   \n",
      "\n",
      "                                         chosen_white_card  \\\n",
      "0                                       Shapes and colors.   \n",
      "1                                       Shapes and colors.   \n",
      "2                                       Shapes and colors.   \n",
      "3                                       Shapes and colors.   \n",
      "4                                       Shapes and colors.   \n",
      "...                                                    ...   \n",
      "2446345  A little boy who won't shut the fuck up about ...   \n",
      "2446346  A little boy who won't shut the fuck up about ...   \n",
      "2446347  A little boy who won't shut the fuck up about ...   \n",
      "2446348  A little boy who won't shut the fuck up about ...   \n",
      "2446349  A little boy who won't shut the fuck up about ...   \n",
      "\n",
      "                                     clean_white_card_text  \n",
      "0        Going inside at some point because of the mosq...  \n",
      "1                                   Being fat from noodles  \n",
      "2                            Letting this loser eat me out  \n",
      "3                               That chicken from Popeyes®  \n",
      "4                              A sorry excuse for a father  \n",
      "...                                                    ...  \n",
      "2446345  A little boy who won't shut the fuck up about ...  \n",
      "2446346                                   Crazy opium eyes  \n",
      "2446347                 Raising three kids on minimum wage  \n",
      "2446348                                          The South  \n",
      "2446349                                           Syphilis  \n",
      "\n",
      "[1277450 rows x 7 columns]\n"
     ]
    }
   ],
   "source": [
    "print(dataset)"
   ],
   "metadata": {
    "collapsed": false
   }
  },
  {
   "cell_type": "markdown",
   "source": [
    "---\n",
    "### Data split generation\n",
    "Several functions are provided here for generating splits of data for the purpose of training.\n",
    "1. gen_split: generates a training and testing split of the data based on a defined size.\n",
    "2. gen_unseen: achieves the same purpose as gen_split, but ensures that the testing split has no common winning punchlines with the training split.\n",
    "3. gen_unique: generates a split where no punchlines are shared between the splits of the data.\n",
    "4. gen_random: randomly generates new data from the punchlines and prompts present in the original data.\n",
    "5. gen_complete: generates a split of a defined size that does not contain rounds present in two priorly defined splits.\n"
   ],
   "metadata": {
    "collapsed": false
   }
  },
  {
   "cell_type": "code",
   "execution_count": 4,
   "outputs": [],
   "source": [
    "import random\n",
    "import pandas as pd\n",
    "\n",
    "# Splits the data into .csvs for a defined train/test size.\n",
    "def gen_split(dataset, test_size=0.2, val_size=0.1, name=\"cah_data\"):\n",
    "    # Grabs the unique round IDs in the full dataset.\n",
    "    round_ids = dataset['round_id'].unique()\n",
    "\n",
    "    # Splits the dataset into 20% and 80% for use when using the training split.\n",
    "    random.seed(523)\n",
    "\n",
    "    val_split_ids = random.sample(list(round_ids), int(len(round_ids) * val_size))\n",
    "    round_ids = list(set(round_ids) - set(val_split_ids))\n",
    "\n",
    "    test_split_ids = random.sample(list(round_ids), int(len(round_ids) * test_size))\n",
    "    train_split_ids = list(set(round_ids) - set(test_split_ids))\n",
    "\n",
    "    # Converts the splits into .csv files.\n",
    "    dataset[dataset['round_id'].isin(val_split_ids)].to_csv(f'Data/val_{name}.csv', index=False)\n",
    "    dataset[dataset['round_id'].isin(test_split_ids)].to_csv(f'Data/testtest_{name}.csv', index=False)\n",
    "    dataset[dataset['round_id'].isin(train_split_ids)].to_csv(f'Data/train_{name}.csv', index=False)\n",
    "\n",
    "gen_split(dataset, name=\"cah_data\")"
   ],
   "metadata": {
    "collapsed": false
   }
  },
  {
   "cell_type": "code",
   "execution_count": 8,
   "outputs": [],
   "source": [
    "import numpy as np\n",
    "\n",
    "# Generates splits of the data, where winning punchlines are distinct between splits.\n",
    "def gen_unseen(dataset, train_size=0.8, name=\"unseen_data\"):\n",
    "    punchlines = {}\n",
    "    for _, row in dataset[dataset['won'] == 1].iterrows():\n",
    "        text = row['white_card_text']\n",
    "        if text not in punchlines:\n",
    "            punchlines[text] = []\n",
    "        punchlines[text].append(row)\n",
    "\n",
    "    training_rows = []\n",
    "    testing_rows = []\n",
    "    training_texts = set()\n",
    "    testing_texts = set()\n",
    "\n",
    "    for text, rows in punchlines.items():\n",
    "        if np.random.rand() < train_size:\n",
    "            if len(training_texts) + len(rows) <= train_size * len(dataset):\n",
    "                training_rows.extend(rows)\n",
    "                training_texts.add(text)\n",
    "            else:\n",
    "                testing_rows.extend(rows)\n",
    "                testing_texts.add(text)\n",
    "        else:\n",
    "            if len(testing_texts) + len(rows) <= (1 - train_size) * len(dataset):\n",
    "                testing_rows.extend(rows)\n",
    "                testing_texts.add(text)\n",
    "            else:\n",
    "                training_rows.extend(rows)\n",
    "                training_texts.add(text)\n",
    "\n",
    "    training_split = pd.DataFrame(training_rows)\n",
    "    train_ids = training_split[\"round_id\"].unique()\n",
    "    training_split = dataset[dataset[\"round_id\"].isin(train_ids)]\n",
    "\n",
    "    testing_split = pd.DataFrame(testing_rows)\n",
    "    test_ids = testing_split[\"round_id\"].unique()\n",
    "    testing_split = dataset[dataset[\"round_id\"].isin(test_ids)]\n",
    "\n",
    "    training_split.to_csv(f\"Data/Unseen/train_{name}.csv\", index=False)\n",
    "    testing_split.to_csv(f\"Data/Unseen/test_{name}.csv\", index=False)\n",
    "\n",
    "gen_unseen(dataset)"
   ],
   "metadata": {
    "collapsed": false
   }
  },
  {
   "cell_type": "code",
   "execution_count": 4,
   "outputs": [],
   "source": [
    "# Purely for experimental purposes, generates a data split where punchlines in one do not appear at all in the other - regardless of whether they win or not.\n",
    "def gen_unique(train_size=60, name=\"unique_data\"):\n",
    "    round_ids = dataset['round_id'].unique()\n",
    "\n",
    "    ids = pd.Series(round_ids).sample(n=train_size, random_state=None)\n",
    "    d_dataset = dataset[dataset['round_id'].isin(ids)].reset_index(drop=True)\n",
    "\n",
    "    u_dataset = dataset[~dataset['white_card_text'].isin(d_dataset['white_card_text'].unique())].reset_index(drop=True)\n",
    "    round_count = u_dataset[\"round_id\"].value_counts()\n",
    "    round_ids = round_count[round_count == 10].index\n",
    "    t_dataset = dataset[dataset[\"round_id\"].isin(round_ids)]\n",
    "\n",
    "    d_dataset.to_csv(f\"Data/Unique/test_{name}.csv\", index=False)\n",
    "    t_dataset.to_csv(f\"Data/Unique/train_{name}.csv\", index=False)\n",
    "\n",
    "gen_unique()"
   ],
   "metadata": {
    "collapsed": false
   }
  },
  {
   "cell_type": "code",
   "execution_count": 6,
   "outputs": [],
   "source": [
    "import pandas as pd\n",
    "import csv\n",
    "import random\n",
    "\n",
    "# Generates randomly generated data from the original data, before converting it into a .csv.\n",
    "def gen_random(dataset, size=0.2, name=\"cah_data\"):\n",
    "    prompts = dataset['black_card_text'].unique()\n",
    "    punchlines = dataset['white_card_text'].unique()\n",
    "\n",
    "    random.seed(523)\n",
    "    with open(f'Data/random_{name}.csv', 'w', encoding='UTF8', newline=\"\") as f:\n",
    "        writer = csv.writer(f)\n",
    "        writer.writerow(['round_id','black_card_text','white_card_text','won','chosen_white_card'])\n",
    "\n",
    "        # For the specified number of rounds, samples a prompt and ten punchlines.\n",
    "        for n in range(int(size * (len(dataset)/10))):\n",
    "            prompt = random.choice(prompts)\n",
    "            punchline = [random.choice(punchlines) for num in range(0,10)]\n",
    "\n",
    "            for num in range(0,10):\n",
    "                writer.writerow([n + 1, prompt, punchline[num], 0.0, punchline[num]])\n",
    "\n",
    "    # Removes periods from the white cards/punchlines and adds them into a new column.\n",
    "    random_dataset = pd.read_csv(f'Data/random_{name}.csv')\n",
    "    def remove_period(input):\n",
    "        if input[-1] == '.':\n",
    "            if input[-2] != '.':\n",
    "                input = input[:-1]\n",
    "        else:\n",
    "            if input[-2] == '.' and input[-3] != '.':\n",
    "                input = input[:-2] + input[-1]\n",
    "        return input\n",
    "    random_dataset['clean_white_card_text'] = random_dataset['white_card_text'].apply(remove_period)\n",
    "    random_dataset.to_csv(f'Data/random_{name}.csv', index=False)\n",
    "\n",
    "dataset = pd.read_csv('Data/train_cah_data.csv')\n",
    "gen_random(dataset)"
   ],
   "metadata": {
    "collapsed": false
   }
  },
  {
   "cell_type": "code",
   "execution_count": 15,
   "outputs": [],
   "source": [
    "import pandas as pd\n",
    "import random\n",
    "\n",
    "# Creates a data split that contains un-trimmed rows of the data, of a similar size to another split.\n",
    "def gen_complete(name=\"cah_data\"):\n",
    "    # Ensures that the data we select rounds from does not contain rounds in the validation or training splits.\n",
    "    dataset = pd.read_csv(f'Data/pproc_{name}.csv')\n",
    "\n",
    "    train = pd.read_csv(f'Data/train_{name}.csv')\n",
    "    val = pd.read_csv(f'Data/val_{name}.csv')\n",
    "    test = pd.read_csv(f'Data/test_{name}.csv')\n",
    "\n",
    "    train_ids = train['round_id'].unique()\n",
    "    val_ids = val['round_id'].unique()\n",
    "    test_ids = test['round_id'].unique()\n",
    "\n",
    "    ids = dataset[~dataset[\"round_id\"].isin(train_ids)]['round_id'].unique()\n",
    "    dataset = dataset[dataset['round_id'].isin(ids)].reset_index(drop=True)\n",
    "\n",
    "    ids = dataset[~dataset[\"round_id\"].isin(val_ids)]['round_id'].unique()\n",
    "    dataset = dataset[dataset['round_id'].isin(ids)].reset_index(drop=True)\n",
    "\n",
    "    # Randomly selects rounds to match the length of the test data split.\n",
    "    random.seed(523)\n",
    "\n",
    "    round_ids = dataset['round_id'].unique()\n",
    "    random_ids = random.sample(list(round_ids), int(len(test_ids)))\n",
    "\n",
    "    # Converts the split into a .csv file.\n",
    "    dataset[dataset['round_id'].isin(random_ids)].to_csv(f'Data/complete_test_{name}.csv', index=False)\n",
    "\n",
    "gen_complete()"
   ],
   "metadata": {
    "collapsed": false
   }
  },
  {
   "cell_type": "markdown",
   "source": [
    "---\n",
    "### Dataset properties\n",
    "We check some properties of the data here to assist with setting up models for training.\n",
    "\n",
    "We check for:\n",
    "1. The maximum potential length of a joke to ensure that the tokenizers can accommodate for every joke.\n",
    "2. If, and which, white cards/punchlines contain periods in their last two characters.\n",
    "3. The distribution of win-rates amongst punchlines in data splits.\n",
    "4. Self-evaluation/human performance on the data."
   ],
   "metadata": {
    "collapsed": false
   }
  },
  {
   "cell_type": "code",
   "execution_count": 69,
   "outputs": [
    {
     "data": {
      "text/plain": "332"
     },
     "execution_count": 69,
     "metadata": {},
     "output_type": "execute_result"
    }
   ],
   "source": [
    "# Calculates the maximum length a joke can manifest as. This is useful for optimising the model training processes.\n",
    "prompt_len = dataset['white_card_text'].str.len()\n",
    "max_length = prompt_len.max()\n",
    "\n",
    "prompt_len = dataset['black_card_text'].str.len()\n",
    "max_length += prompt_len.max()\n",
    "\n",
    "max_length"
   ],
   "metadata": {
    "collapsed": false
   }
  },
  {
   "cell_type": "code",
   "execution_count": 72,
   "outputs": [
    {
     "name": "stdout",
     "output_type": "stream",
     "text": [
      "['Staring at a painting and going \"hmmmmmm...\"']\n"
     ]
    }
   ],
   "source": [
    "filtered_dataset = dataset[dataset['clean_white_card_text'].str[-2:].str.contains('\\.')]['white_card_text'].unique()\n",
    "print(filtered_dataset)"
   ],
   "metadata": {
    "collapsed": false
   }
  },
  {
   "cell_type": "code",
   "execution_count": 18,
   "outputs": [
    {
     "name": "stdout",
     "output_type": "stream",
     "text": [
      "Empty DataFrame\n",
      "Columns: [round_id, round_completion_seconds, black_card_text, white_card_text, won, chosen_white_card, clean_white_card_text]\n",
      "Index: []\n",
      "Empty DataFrame\n",
      "Columns: [round_id, round_completion_seconds, black_card_text, white_card_text, won, chosen_white_card, clean_white_card_text]\n",
      "Index: []\n"
     ]
    }
   ],
   "source": [
    "dataset = pd.read_csv(f'Data/complete_test_cah_data.csv')\n",
    "\n",
    "train = pd.read_csv(f'Data/train_cah_data.csv')['round_id'].unique()\n",
    "val = pd.read_csv(f'Data/val_cah_data.csv')['round_id'].unique()\n",
    "\n",
    "print(dataset[dataset[\"round_id\"].isin(train)])\n",
    "print(dataset[dataset[\"round_id\"].isin(val)])"
   ],
   "metadata": {
    "collapsed": false
   }
  },
  {
   "cell_type": "code",
   "execution_count": 52,
   "outputs": [
    {
     "name": "stderr",
     "output_type": "stream",
     "text": [
      "[nltk_data] Downloading package wordnet to\n",
      "[nltk_data]     C:\\Users\\daivi\\AppData\\Roaming\\nltk_data...\n",
      "[nltk_data]   Package wordnet is already up-to-date!\n",
      "[nltk_data] Downloading package punkt to\n",
      "[nltk_data]     C:\\Users\\daivi\\AppData\\Roaming\\nltk_data...\n",
      "[nltk_data]   Package punkt is already up-to-date!\n",
      "Progress: 229940it [01:36, 2384.18it/s]\n"
     ]
    },
    {
     "name": "stdout",
     "output_type": "stream",
     "text": [
      "Average ratio of sexuality/politics:  0.0599882239994463\n"
     ]
    }
   ],
   "source": [
    "import pandas as pd\n",
    "import nltk, string\n",
    "from tqdm import tqdm\n",
    "from collections import defaultdict\n",
    "from nltk.corpus import WordNetCorpusReader\n",
    "from nltk.stem import WordNetLemmatizer\n",
    "\n",
    "def clean_joke(joke, lemmatizer, translator):\n",
    "    words = nltk.word_tokenize(joke)\n",
    "\n",
    "    words = [word.lower() for word in words]\n",
    "\n",
    "    words = [lemmatizer.lemmatize(word) for word in words]\n",
    "    words = [word.translate(translator) for word in words if word.isalnum()]\n",
    "\n",
    "    return words\n",
    "\n",
    "def load_wordnet():\n",
    "    domain2synsets = defaultdict(list)\n",
    "    synset2domains = defaultdict(list)\n",
    "    for i in open('Data/WordNet/wn-domains-3.2-20070223', 'r'):\n",
    "        ssid, doms = i.strip().split('\\t')\n",
    "        doms = doms.split()\n",
    "        synset2domains[ssid] = doms\n",
    "        for d in doms:\n",
    "            domain2synsets[d].append(ssid)\n",
    "\n",
    "    return domain2synsets, synset2domains\n",
    "\n",
    "# Adds stylistic metrics to the data splits.\n",
    "def add_metrics(dataset):\n",
    "    nltk.download('wordnet')\n",
    "    nltk.download('punkt')\n",
    "\n",
    "    lemmatizer = WordNetLemmatizer()\n",
    "    translator = str.maketrans('', '', string.punctuation)\n",
    "    wn = WordNetCorpusReader(f'Data/WordNet/dict', 'WordNet/dict')\n",
    "    domain2synsets, synset2domains = load_wordnet()\n",
    "\n",
    "    dataset.drop(columns=['inputs','domain_ratio'], errors='ignore', inplace=True)\n",
    "    dataset['inputs'] = dataset.apply(lambda row: row['black_card_text'].replace(\"_____\", row['chosen_white_card'])\n",
    "                                   if \"_____\" in row['black_card_text']\n",
    "                                   else row['black_card_text'] + \" \" + row['chosen_white_card'], axis=1)\n",
    "\n",
    "    domain_total = 0\n",
    "    for index, joke in tqdm(dataset.iterrows(), desc=\"Progress\"):\n",
    "        joke = joke['inputs']\n",
    "        words = clean_joke(joke, lemmatizer, translator)\n",
    "        word_len = len(words)\n",
    "        domain_count = 0\n",
    "\n",
    "        for word in words:\n",
    "            word_domains = []\n",
    "            word_synsets = wn.synsets(word)\n",
    "            for synset in word_synsets:\n",
    "                word_domains.extend(synset2domains.get(str(synset.offset()).zfill(8) + \"-\" + synset.pos(), set()))\n",
    "\n",
    "            if \"sexuality\" in word_domains or \"politics\" in word_domains:\n",
    "                domain_count += 1\n",
    "        domain_count /= word_len\n",
    "        domain_total += domain_count\n",
    "\n",
    "        dataset.at[index, 'domain_ratio'] = domain_count\n",
    "\n",
    "    domain_total /= len(dataset['inputs'])\n",
    "    print(\"Average ratio of sexuality/politics: \", domain_total)\n",
    "\n",
    "    dataset.drop(columns=['inputs'], errors='ignore', inplace=True)\n",
    "    dataset.to_csv(f\"Data/test_cah_data.csv\", index=False)\n",
    "\n",
    "dataset = pd.read_csv(\"Data/test_cah_data.csv\")\n",
    "add_metrics(dataset)"
   ],
   "metadata": {
    "collapsed": false
   }
  },
  {
   "cell_type": "code",
   "execution_count": 20,
   "outputs": [],
   "source": [
    "import pandas as pd\n",
    "\n",
    "# Adds win-rates associated with each white card to each row, as a new column.\n",
    "def add_winrate(name=\"test_cah_data\", train=\"train_cah_data\"):\n",
    "    dataset = pd.read_csv(f'Data/{name}.csv')\n",
    "    train_dataset = pd.read_csv(f'Data/{train}.csv')\n",
    "\n",
    "    total_counts = train_dataset['white_card_text'].value_counts().reset_index()\n",
    "    total_counts.columns = ['white_card_text', 'total_count']\n",
    "\n",
    "    win_counts = train_dataset.groupby('white_card_text')['won'].sum().reset_index()\n",
    "    win_counts.columns = ['white_card_text', 'win_count']\n",
    "\n",
    "    merged = pd.merge(total_counts, win_counts, on='white_card_text', how='left')\n",
    "    merged['win_rate'] = merged['win_count'] / merged['total_count']\n",
    "    train_dataset = pd.merge(train_dataset, merged[['white_card_text', 'win_rate']], on='white_card_text', how='left')\n",
    "\n",
    "    train_dataset['normalized_text'] = train_dataset['white_card_text'].str.replace(r'\\s+', ' ', regex=True).str.strip()\n",
    "    dataset['normalized_text'] = dataset['white_card_text'].str.replace(r'\\s+', ' ', regex=True).str.strip()\n",
    "\n",
    "    mapping = train_dataset.drop_duplicates(subset='normalized_text').set_index('normalized_text')['win_rate'].fillna(0)\n",
    "    dataset['win_rate'] = dataset['normalized_text'].map(mapping).fillna(mapping.mean())\n",
    "\n",
    "    train_dataset.drop(columns=['normalized_text'], inplace=True)\n",
    "    dataset.drop(columns=['normalized_text'], inplace=True)\n",
    "\n",
    "    dataset.to_csv(f\"Data/{name}.csv\", index=False)\n",
    "\n",
    "add_winrate(\"test_cah_data\", \"train_cah_data\")"
   ],
   "metadata": {
    "collapsed": false
   }
  },
  {
   "cell_type": "code",
   "execution_count": 14,
   "outputs": [],
   "source": [
    "import pandas as pd\n",
    "\n",
    "# Gets the top punchlines by win-rate for the trimmed data.\n",
    "dataset = pd.read_csv(\"Data/train_cah_data.csv\")\n",
    "\n",
    "\n",
    "dataset['row_count'] = dataset.groupby('white_card_text')['white_card_text'].transform('count')\n",
    "dataset['win_count'] = dataset.groupby('white_card_text')['won'].transform('sum')\n",
    "dataset['win_rate'] = dataset['win_count']/dataset['row_count']\n",
    "\n",
    "sorted_dataset = dataset.sort_values(by='win_rate', ascending=False)\n",
    "high_wr_punchline = sorted_dataset.drop_duplicates(subset='white_card_text')\n",
    "\n",
    "counts = []\n",
    "for _, row in high_wr_punchline.iterrows():\n",
    "    white_card_text = row['white_card_text']\n",
    "    row_count = dataset[dataset['white_card_text'] == white_card_text].shape[0]\n",
    "    win_count = dataset[(dataset['white_card_text'] == white_card_text) & (dataset['won'] == 1)].shape[0]\n",
    "    counts.append([white_card_text, row['win_rate'], row_count, win_count])\n",
    "\n",
    "result = pd.DataFrame(counts, columns=['white_card_text', 'win_rate', 'row_count', 'win_count'])\n",
    "result.to_csv(\"Data/Analysis/train_wrs.csv\", index=False)"
   ],
   "metadata": {
    "collapsed": false
   }
  },
  {
   "cell_type": "code",
   "execution_count": null,
   "outputs": [],
   "source": [
    "import pandas as pd\n",
    "from datasets import Dataset\n",
    "from tqdm import tqdm\n",
    "\n",
    "# Adds self-evaluation results to the data, based on the preferences of the user.\n",
    "def add_self_eval(dataset):\n",
    "    if 'user_choice' not in dataset.columns:\n",
    "        dataset['user_choice'] = None\n",
    "\n",
    "    itr_dataset = pd.DataFrame.copy(dataset)\n",
    "    itr_dataset['inputs'] = dataset.apply(lambda row: row['black_card_text'].replace(\"_____\", row['clean_white_card_text'])\n",
    "                                       if \"_____\" in row['black_card_text']\n",
    "                                       else row['black_card_text'] + \" \" + row['white_card_text'], axis=1)\n",
    "    itr_dataset = [Dataset.from_pandas(group) for _, group in itr_dataset.groupby('round_id')]\n",
    "\n",
    "    for batch in tqdm(itr_dataset, desc=\"Evaluation progress\"):\n",
    "        if batch['user_choice'][0] is not None:\n",
    "            continue\n",
    "\n",
    "        jokes = \"\"\n",
    "\n",
    "        for index, joke in enumerate(batch['inputs']):\n",
    "            jokes = f\"{jokes} {index}. {joke} \\n\"\n",
    "        print(jokes)\n",
    "\n",
    "        choice = input(f\"{jokes}\\nEnter choice: \")\n",
    "        if not choice:\n",
    "            break\n",
    "        print(f\"Chose {choice}.\")\n",
    "\n",
    "        dataset.loc[dataset['round_id'] == batch['round_id'][0], 'user_choice'] = choice\n",
    "        dataset.to_csv(f\"Data/small_test_cah_data.csv\", index=False)\n",
    "\n",
    "dataset = pd.read_csv(f'Data/small_test_cah_data.csv')\n",
    "add_self_eval(dataset)"
   ],
   "metadata": {
    "collapsed": false,
    "pycharm": {
     "is_executing": true
    }
   }
  },
  {
   "cell_type": "code",
   "execution_count": 7,
   "outputs": [
    {
     "name": "stdout",
     "output_type": "stream",
     "text": [
      "100\n"
     ]
    }
   ],
   "source": [
    "df = pd.read_csv('Data/smaller_test_cah_data.csv')\n",
    "print(len(df['round_id'].unique()))\n",
    "# unique_round_ids = df['round_id'].unique()[:100]\n",
    "# filtered_df = df[df['round_id'].isin(unique_round_ids)]\n",
    "# filtered_df.to_csv('Data/smaller_test_cah_data.csv', index=False)"
   ],
   "metadata": {
    "collapsed": false
   }
  },
  {
   "cell_type": "code",
   "execution_count": 20,
   "outputs": [
    {
     "data": {
      "text/plain": "<Figure size 1000x600 with 1 Axes>",
      "image/png": "[encoded data removed]"
     },
     "metadata": {},
     "output_type": "display_data"
    },
    {
     "data": {
      "text/plain": "<Figure size 1000x600 with 1 Axes>",
      "image/png": "[encoded data removed]"
     },
     "metadata": {},
     "output_type": "display_data"
    },
    {
     "data": {
      "text/plain": "<Figure size 1000x600 with 1 Axes>",
      "image/png": "[encoded data removed]"
     },
     "metadata": {},
     "output_type": "display_data"
    }
   ],
   "source": [
    "import matplotlib.pyplot as plt\n",
    "\n",
    "def plot_wr(name='proc_cah_data.csv'):\n",
    "    dataset = pd.read_csv(f'Data/{name}')\n",
    "    dataset_grouped = dataset.groupby(\"white_card_text\")[\"won\"].agg([\"sum\", \"count\"]).reset_index()\n",
    "    dataset_grouped[\"win_rate\"] = dataset_grouped[\"sum\"] / dataset_grouped[\"count\"] * 100\n",
    "\n",
    "    wr_counts = dataset_grouped.groupby(\"win_rate\")[\"white_card_text\"].count().reset_index()\n",
    "\n",
    "    plt.figure(figsize=(10, 6))\n",
    "    plt.plot(wr_counts[\"win_rate\"], wr_counts[\"white_card_text\"], marker=\"o\", linestyle=\"-\")\n",
    "    plt.xlabel(\"Win-rate %\")\n",
    "    plt.ylabel(\"Frequency\")\n",
    "    plt.title(f\"Win-rate against frequency of punchlines ({name})\")\n",
    "    plt.grid(True)\n",
    "    plt.show()\n",
    "\n",
    "# plot_wr(name='Experimental Data/train_unseen_0.1.csv')\n",
    "# plot_wr(name='Unseen/train_unseen_data.csv')\n",
    "# plot_wr(name='Unique/train_unique_data.csv')\n",
    "plot_wr(name='Old/train_cah_data.csv')\n",
    "plot_wr(name='train_cah_data.csv')\n",
    "plot_wr(name='proc_cah_data.csv')"
   ],
   "metadata": {
    "collapsed": false
   }
  },
  {
   "cell_type": "markdown",
   "source": [
    "# Other datasets"
   ],
   "metadata": {
    "collapsed": false
   },
   "execution_count": 1
  },
  {
   "cell_type": "markdown",
   "source": [
    "### Reddit Dataset"
   ],
   "metadata": {
    "collapsed": false
   }
  },
  {
   "cell_type": "code",
   "execution_count": 13,
   "outputs": [],
   "source": [
    "# Imports the Pandas library\n",
    "import pandas as pd\n",
    "from sklearn.model_selection import train_test_split\n",
    "\n",
    "def normalize(enteredValue, minEntry, maxEntry, normalizedMin, normalizedMax):\n",
    "    mx = (enteredValue-minEntry)/(maxEntry-minEntry)\n",
    "    preshiftNormalized = mx*(normalizedMax-normalizedMin)\n",
    "    shiftedNormalized = preshiftNormalized + normalizedMin\n",
    "\n",
    "    return shiftedNormalized\n",
    "\n",
    "dataset = pd.read_csv('Data/Experimental Data/reddit_data.csv')\n",
    "\n",
    "dataset = dataset[dataset['score'] < 500000]\n",
    "max_score = dataset['score'].max()\n",
    "min_score = dataset['score'].min()\n",
    "\n",
    "dataset['normalized_score'] = dataset['score'].apply(lambda x: normalize(x, min_score, max_score, 0, 1))\n",
    "train_df, test_df = train_test_split(dataset, test_size=0.1, random_state=None)\n",
    "train_df, test_df = train_test_split(test_df, test_size=0.2, random_state=None)\n",
    "\n",
    "train_df.to_csv('Data/Experimental Data/train_reddit_data.csv', index=False)\n",
    "test_df.to_csv('Data/Experimental Data/test_reddit_data.csv', index=False)"
   ],
   "metadata": {
    "collapsed": false
   }
  },
  {
   "cell_type": "markdown",
   "source": [
    "### Humicroedit Dataset"
   ],
   "metadata": {
    "collapsed": false
   }
  },
  {
   "cell_type": "code",
   "execution_count": 21,
   "outputs": [],
   "source": [
    "# Imports the Pandas library\n",
    "import pandas as pd\n",
    "import re\n",
    "\n",
    "# Merges the two datasets together.\n",
    "data1 = pd.read_csv('Data/Microedit/Old/train.csv')\n",
    "data2 = pd.read_csv('Data/Microedit/Old/train_funlines.csv')\n",
    "dataset = pd.concat([data1, data2], ignore_index=True)\n",
    "\n",
    "test_dataset = pd.read_csv('Data/Microedit/Old/test.csv')\n",
    "\n",
    "# Converts the words to be edited into \"_____\" to match with the Cards Against Humanity dataset.\n",
    "def convert_values(row):\n",
    "    pattern = r'<([^>]*)/>'\n",
    "    return re.sub(pattern, \"_____\", row['original'])\n",
    "\n",
    "# Apply the function to convert the column's values.\n",
    "dataset['original'] = dataset.apply(convert_values, axis=1)\n",
    "test_dataset['original'] = dataset.apply(convert_values, axis=1)\n",
    "\n",
    "dataset.rename(columns={'original': 'black_card_text', 'edit': 'white_card_text', 'meanGrade': 'won'}, inplace=True)\n",
    "test_dataset.rename(columns={'original': 'black_card_text', 'edit': 'white_card_text', 'meanGrade': 'won'}, inplace=True)\n",
    "\n",
    "dataset.drop(['grades', 'id'], axis=1, inplace=True)\n",
    "test_dataset.drop(['grades', 'id'], axis=1, inplace=True)\n",
    "\n",
    "# Assigns round_ids to groups of ten rows.\n",
    "dataset['round_id'] = (dataset.index // 10) + 1\n",
    "test_dataset['round_id'] = (test_dataset.index // 10) + 1\n",
    "\n",
    "# Excess rows that cannot fit into a group of ten are discarded.\n",
    "group_sizes = dataset.groupby('round_id').size()\n",
    "valid_round_ids = group_sizes[group_sizes == 10].index\n",
    "dataset = dataset[dataset['round_id'].isin(valid_round_ids)]\n",
    "dataset = dataset[dataset.groupby('round_id')['round_id'].transform('size') == 10]\n",
    "\n",
    "group_sizes = test_dataset.groupby('round_id').size()\n",
    "valid_round_ids = group_sizes[group_sizes == 10].index\n",
    "test_dataset = test_dataset[test_dataset['round_id'].isin(valid_round_ids)]\n",
    "test_dataset = test_dataset[test_dataset.groupby('round_id')['round_id'].transform('size') == 10]\n",
    "\n",
    "dataset.to_csv('Data/Microedit/train_micro_data.csv', index=False)\n",
    "test_dataset.to_csv('Data/Microedit/test_micro_data.csv', index=False)"
   ],
   "metadata": {
    "collapsed": false
   }
  }
 ],
 "metadata": {
  "kernelspec": {
   "display_name": "Python 3",
   "language": "python",
   "name": "python3"
  },
  "language_info": {
   "codemirror_mode": {
    "name": "ipython",
    "version": 2
   },
   "file_extension": ".py",
   "mimetype": "text/x-python",
   "name": "python",
   "nbconvert_exporter": "python",
   "pygments_lexer": "ipython2",
   "version": "2.7.6"
  }
 },
 "nbformat": 4,
 "nbformat_minor": 0
}
