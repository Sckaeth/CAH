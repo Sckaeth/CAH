{
 "cells": [
  {
   "cell_type": "markdown",
   "source": [
    "# Data Processing\n",
    "This file runs through the data and processes it into a usable format for the training of the language model and reward model.\n",
    "\n",
    "This involves the following steps:\n",
    "1. Removing all rows where the column *\"black_card_pick_num\"* is over 1, to ensure that chosen rows only contain one punchline.\n",
    "2. Erasing rows where *\"round_skipped\"* is True, to ensure that chosen rows actually have a winning joke.\n",
    "3. Adding an extra row into the dataset containing the winning joke for that round. This becomes useful for the reward model training.\n",
    "4. Mapping *\"won\"* values of False to 0, and True to 1 to aid with training further down the line.\n",
    "5. Columns containing data that is not immediately relevant are removed and *\"fake_round_id\"* is renamed to *\"round_id\"*."
   ],
   "metadata": {
    "collapsed": false
   }
  },
  {
   "cell_type": "markdown",
   "source": [],
   "metadata": {
    "collapsed": false
   }
  },
  {
   "cell_type": "code",
   "execution_count": 15,
   "metadata": {
    "collapsed": true
   },
   "outputs": [],
   "source": [
    "# Imports the Pandas library\n",
    "import pandas as pd\n",
    "\n",
    "# Reads the .csv file and then omits certain rows based on conditions.\n",
    "dataset = pd.read_csv('Data/cah_data.csv')\n",
    "dataset = dataset[dataset['black_card_pick_num'] <= 1]\n",
    "dataset = dataset[dataset['round_skipped'] != True]\n",
    "\n",
    "# Creates a new column for the winning joke.\n",
    "winning_jokes = dataset[dataset['won'] == True].copy()\n",
    "winning_jokes.loc[:, 'chosen_white_card'] = winning_jokes['white_card_text']\n",
    "dataset = pd.merge(dataset, winning_jokes[['fake_round_id', 'chosen_white_card']], on='fake_round_id', how='left')\n",
    "\n",
    "# Alters other features within the dataset, as specified above, to aid with future tasks.\n",
    "dataset['won'] = dataset['won'].map({False: 0, True: 1})\n",
    "dataset['won'] = dataset['won'].astype(float)\n",
    "dataset.drop(['winning_index', 'round_skipped', 'round_completion_seconds', 'black_card_pick_num'], axis=1, inplace=True)\n",
    "dataset.rename(columns={'fake_round_id': 'round_id'}, inplace=True)\n",
    "\n",
    "# Saves the dataset into a new .csv file.\n",
    "dataset.to_csv('Data/proc_cah_data.csv', index=False)"
   ]
  },
  {
   "cell_type": "code",
   "execution_count": 14,
   "outputs": [
    {
     "data": {
      "text/plain": "         round_id                                    black_card_text  \\\n0               1  Hi MTV! My name is Kendra, I live in Malibu, I...   \n1               1  Hi MTV! My name is Kendra, I live in Malibu, I...   \n2               1  Hi MTV! My name is Kendra, I live in Malibu, I...   \n3               1  Hi MTV! My name is Kendra, I live in Malibu, I...   \n4               1  Hi MTV! My name is Kendra, I live in Malibu, I...   \n...           ...                                                ...   \n2446355    298955                     Oh my god! _____ killed Kenny!   \n2446356    298955                     Oh my god! _____ killed Kenny!   \n2446357    298955                     Oh my god! _____ killed Kenny!   \n2446358    298955                     Oh my god! _____ killed Kenny!   \n2446359    298955                     Oh my god! _____ killed Kenny!   \n\n                                           white_card_text  won  \\\n0        Going inside at some point because of the mosq...    0   \n1                                  Being fat from noodles.    0   \n2                           Letting this loser eat me out.    0   \n3                              That chicken from Popeyes.®    0   \n4                             A sorry excuse for a father.    0   \n...                                                    ...  ...   \n2446355                      Breastfeeding a ten-year-old.    0   \n2446356                  Happy daddies with happy sandals.    0   \n2446357         Jerking off to a 10-second RealMedia clip.    0   \n2446358            Getting naked and watching Nickelodeon.    0   \n2446359             Awesome pictures of planets and stuff.    0   \n\n          chosen_white_card  \n0        Shapes and colors.  \n1        Shapes and colors.  \n2        Shapes and colors.  \n3        Shapes and colors.  \n4        Shapes and colors.  \n...                     ...  \n2446355         Jeff Bezos.  \n2446356         Jeff Bezos.  \n2446357         Jeff Bezos.  \n2446358         Jeff Bezos.  \n2446359         Jeff Bezos.  \n\n[2446360 rows x 5 columns]",
      "text/html": "<div>\n<style scoped>\n    .dataframe tbody tr th:only-of-type {\n        vertical-align: middle;\n    }\n\n    .dataframe tbody tr th {\n        vertical-align: top;\n    }\n\n    .dataframe thead th {\n        text-align: right;\n    }\n</style>\n<table border=\"1\" class=\"dataframe\">\n  <thead>\n    <tr style=\"text-align: right;\">\n      <th></th>\n      <th>round_id</th>\n      <th>black_card_text</th>\n      <th>white_card_text</th>\n      <th>won</th>\n      <th>chosen_white_card</th>\n    </tr>\n  </thead>\n  <tbody>\n    <tr>\n      <th>0</th>\n      <td>1</td>\n      <td>Hi MTV! My name is Kendra, I live in Malibu, I...</td>\n      <td>Going inside at some point because of the mosq...</td>\n      <td>0</td>\n      <td>Shapes and colors.</td>\n    </tr>\n    <tr>\n      <th>1</th>\n      <td>1</td>\n      <td>Hi MTV! My name is Kendra, I live in Malibu, I...</td>\n      <td>Being fat from noodles.</td>\n      <td>0</td>\n      <td>Shapes and colors.</td>\n    </tr>\n    <tr>\n      <th>2</th>\n      <td>1</td>\n      <td>Hi MTV! My name is Kendra, I live in Malibu, I...</td>\n      <td>Letting this loser eat me out.</td>\n      <td>0</td>\n      <td>Shapes and colors.</td>\n    </tr>\n    <tr>\n      <th>3</th>\n      <td>1</td>\n      <td>Hi MTV! My name is Kendra, I live in Malibu, I...</td>\n      <td>That chicken from Popeyes.®</td>\n      <td>0</td>\n      <td>Shapes and colors.</td>\n    </tr>\n    <tr>\n      <th>4</th>\n      <td>1</td>\n      <td>Hi MTV! My name is Kendra, I live in Malibu, I...</td>\n      <td>A sorry excuse for a father.</td>\n      <td>0</td>\n      <td>Shapes and colors.</td>\n    </tr>\n    <tr>\n      <th>...</th>\n      <td>...</td>\n      <td>...</td>\n      <td>...</td>\n      <td>...</td>\n      <td>...</td>\n    </tr>\n    <tr>\n      <th>2446355</th>\n      <td>298955</td>\n      <td>Oh my god! _____ killed Kenny!</td>\n      <td>Breastfeeding a ten-year-old.</td>\n      <td>0</td>\n      <td>Jeff Bezos.</td>\n    </tr>\n    <tr>\n      <th>2446356</th>\n      <td>298955</td>\n      <td>Oh my god! _____ killed Kenny!</td>\n      <td>Happy daddies with happy sandals.</td>\n      <td>0</td>\n      <td>Jeff Bezos.</td>\n    </tr>\n    <tr>\n      <th>2446357</th>\n      <td>298955</td>\n      <td>Oh my god! _____ killed Kenny!</td>\n      <td>Jerking off to a 10-second RealMedia clip.</td>\n      <td>0</td>\n      <td>Jeff Bezos.</td>\n    </tr>\n    <tr>\n      <th>2446358</th>\n      <td>298955</td>\n      <td>Oh my god! _____ killed Kenny!</td>\n      <td>Getting naked and watching Nickelodeon.</td>\n      <td>0</td>\n      <td>Jeff Bezos.</td>\n    </tr>\n    <tr>\n      <th>2446359</th>\n      <td>298955</td>\n      <td>Oh my god! _____ killed Kenny!</td>\n      <td>Awesome pictures of planets and stuff.</td>\n      <td>0</td>\n      <td>Jeff Bezos.</td>\n    </tr>\n  </tbody>\n</table>\n<p>2446360 rows × 5 columns</p>\n</div>"
     },
     "execution_count": 14,
     "metadata": {},
     "output_type": "execute_result"
    }
   ],
   "source": [
    "dataset"
   ],
   "metadata": {
    "collapsed": false
   }
  }
 ],
 "metadata": {
  "kernelspec": {
   "display_name": "Python 3",
   "language": "python",
   "name": "python3"
  },
  "language_info": {
   "codemirror_mode": {
    "name": "ipython",
    "version": 2
   },
   "file_extension": ".py",
   "mimetype": "text/x-python",
   "name": "python",
   "nbconvert_exporter": "python",
   "pygments_lexer": "ipython2",
   "version": "2.7.6"
  }
 },
 "nbformat": 4,
 "nbformat_minor": 0
}
